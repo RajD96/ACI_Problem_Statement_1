{
  "nbformat": 4,
  "nbformat_minor": 0,
  "metadata": {
    "colab": {
      "provenance": []
    },
    "kernelspec": {
      "name": "python3",
      "display_name": "Python 3"
    },
    "language_info": {
      "name": "python"
    }
  },
  "cells": [
    {
      "cell_type": "markdown",
      "source": [
        "List only the BITS (Name) of active contributors in this assignment:\n",
        "1. Rakesh Dhinwa                 (2024)   Contribution (100%)"
      ],
      "metadata": {
        "id": "O-QrgtOGKaYq"
      }
    },
    {
      "cell_type": "markdown",
      "source": [],
      "metadata": {
        "id": "x2DxAK2fOvZW"
      }
    },
    {
      "cell_type": "code",
      "source": [
        "import heapq\n",
        "import math"
      ],
      "metadata": {
        "id": "5L8QiZL0QnBX"
      },
      "execution_count": null,
      "outputs": []
    },
    {
      "cell_type": "code",
      "source": [
        "#Code Block : Set Initial State (Must handle dynamic inputs)\n",
        "\n",
        "print(\"Cities: Panji, Raichur, Tirupathi, Chennai, Kurnool, Nellore, Bellari, Bangalore, Kozhikode, Mangalore\")\n",
        "\n",
        "\n",
        "cities = [\"Panji\", \"Raichur\", \"Tirupathi\", \"Chennai\", \"Kurnool\", \"Nellore\", \"Bellari\", \"Bangalore\", \"Kozhikode\", \"Mangalore\"]\n",
        "\n",
        "def enter_src_dest_cities():\n",
        "    sourceCity = input(\"Please input your Source City: \")\n",
        "    destCity = input(\"Please input your Destination City: \")\n",
        "    sourceCity = sourceCity.capitalize()\n",
        "    destCity = destCity.capitalize()\n",
        "    if sourceCity not in cities and destCity not in cities:\n",
        "      print(\"Please enter valid City Names\")\n",
        "      sourceCity, destCity = enter_src_dest_cities()\n",
        "    return sourceCity, destCity\n",
        "\n",
        "sourceCity, destCity = enter_src_dest_cities()"
      ],
      "metadata": {
        "colab": {
          "base_uri": "https://localhost:8080/"
        },
        "id": "u-fhcm08LZ2e",
        "outputId": "efbace69-85d8-4e84-819c-646b273de814"
      },
      "execution_count": null,
      "outputs": [
        {
          "name": "stdout",
          "output_type": "stream",
          "text": [
            "Cities: Panji, Raichur, Tirupathi, Chennai, Kurnool, Nellore, Bellari, Bangalore, Kozhikode, Mangalore\n",
            "Please input your Source City: Panji\n",
            "Please input your Destination City: Nellore\n"
          ]
        }
      ]
    },
    {
      "cell_type": "code",
      "source": [
        "#Code Block : Set the matrix for transition & cost (as relevant for the given problem)\n",
        "\n",
        "# Graph shows all the cities which are directly connected to that specific city with path-cost as the values.\n",
        "# Example Panji is directly connected to Mangalore with Path-cost 365 and Raichur with Path-cost 457\n",
        "\n",
        "graph = {\n",
        "    'Panji': {'Mangalore': 365, 'Raichur': 457},\n",
        "    'Raichur': {'Tirupathi': 453, 'Kurnool': 100, 'Panji': 457},\n",
        "    'Tirupathi': {'Bellari': 379, 'Chennai': 153, 'Raichur': 453},\n",
        "    'Chennai': {'Nellore': 175, 'Tirupathi': 153, 'Bangalore': 346},\n",
        "    'Kurnool': {'Raichur': 100, 'Nellore': 325},\n",
        "    'Nellore': {'Kurnool': 325, 'Chennai': 175},\n",
        "    'Bellari': {'Tirupathi': 379, 'Bangalore': 153},\n",
        "    'Bangalore': {'Bellari': 153, 'Chennai': 346, 'Mangalore': 352, 'Kozhikode': 356},\n",
        "    'Kozhikode': {'Mangalore': 233, 'Bangalore': 356},\n",
        "    'Mangalore': {'Kozhikode': 233, 'Bangalore': 352},\n",
        "\n",
        "}\n",
        "\n",
        "# coords is a dictionary datastructure which stores all the cities as Key and their co-cordinates as value.\n",
        "coords = {\n",
        "        'Panji': (15.4909, 73.8278),\n",
        "        'Raichur': (16.2076, 77.3463),\n",
        "        'Tirupathi': (13.6288, 79.4192),\n",
        "        'Chennai': (13.0827, 80.2707),\n",
        "        'Kurnool': (15.8281, 78.0373),\n",
        "        'Nellore': (14.4426, 79.9865),\n",
        "        'Bellari': (15.1394, 76.9214),\n",
        "        'Bangalore': (12.9716, 77.5946),\n",
        "        'Kozhikode': (11.2588, 75.7804),\n",
        "        'Mangalore': (12.9141, 74.8560)\n",
        "}\n",
        "\n"
      ],
      "metadata": {
        "id": "PvfDfwIPMJLI"
      },
      "execution_count": null,
      "outputs": []
    },
    {
      "cell_type": "code",
      "source": [
        "# Haversine Formula Function\n",
        "# Takes Latitude and longitude of source  and destination as input\n",
        "# Returns great-circle distance between Source & Destination in Kilometer as Output\n",
        "def haversine(lat1, lon1, lat2, lon2):\n",
        "    # Convert latitude and longitude from degrees to radians\n",
        "    lat1, lon1, lat2, lon2 = map(math.radians, [lat1, lon1, lat2, lon2])\n",
        "\n",
        "    # Haversine formula\n",
        "    dlat = lat2 - lat1\n",
        "    dlon = lon2 - lon1\n",
        "    a = math.sin(dlat / 2)**2 + math.cos(lat1) * math.cos(lat2) * math.sin(dlon / 2)**2\n",
        "    c = 2 * math.asin(math.sqrt(a))\n",
        "\n",
        "    # Radius of Earth\n",
        "    r = 6371.01\n",
        "\n",
        "    # Return the distance as result\n",
        "    return round(c * r, 3)\n",
        "\n",
        "\n",
        "# Heuristic function using Haversine\n",
        "def heuristic(coords, city1, city2):\n",
        "    return haversine(coords[city1][0], coords[city1][1], coords[city2][0], coords[city2][1])\n",
        "\n",
        "# Function to print Heuristic Table\n",
        "def print_heuristic_values(coords, city1, city2):\n",
        "    print(\"---------------------------------------------------------------\")\n",
        "    print(\"**************Heuristic Values for each cities*****************\")\n",
        "    print(\"---------------------------------------------------------------\")\n",
        "    for city, lat_long in coords.items():\n",
        "        print(f\"{city} : {haversine(lat_long[0], lat_long[1], coords[city2][0], coords[city2][1])}\")\n",
        "    print(\"---------------------------------------------------------------\")"
      ],
      "metadata": {
        "id": "5pR8dtHAQ1WY"
      },
      "execution_count": null,
      "outputs": []
    },
    {
      "cell_type": "code",
      "source": [
        "'''A* search Algorithm Function\n",
        "Takes graph, start(Source City), goal(Destination City) and heuristic_func as input parameters\n",
        "Returns the shortest path or selected Path taken to reach destination from source and the total path cost\n",
        "f_cost: Total estimated cost (g_cost + heuristic cost) from the start node to the goal node through the current node\n",
        "g_cost: Cost from the start node to the current node\n",
        "path: List of nodes forming the path from the start node to the current node.\n",
        "closed_list: Set to keep track of nodes that have already been evaluated\n",
        "heapq: This module is an implementation of priority queue algorithm provided by Python\n",
        "max_queue_length: Max space requirement of algorithm\n",
        "generated_nodes: Numbers of Generated Nodes\n",
        "expanded_nodes: Numbers of Expanded Nodes'''\n",
        "\n",
        "def astar_search_algorithm(graph, start_node, goal_node, heuristic_func):\n",
        "    print_heuristic_values(coords, start_node, goal_node)\n",
        "\n",
        "    open_list = []\n",
        "    f_cost = heuristic_func(coords, start_node, goal_node)\n",
        "    generated_nodes = 0\n",
        "    expanded_nodes = 0\n",
        "    g_cost = 0\n",
        "    path = []\n",
        "    max_queue_length = 0\n",
        "\n",
        "    heapq.heappush(open_list, (f_cost, g_cost, start_node, path))\n",
        "    generated_nodes = generated_nodes + 1\n",
        "    max_queue_length = max_queue_length  + 1\n",
        "    closed_list = set()\n",
        "\n",
        "    while open_list:\n",
        "        f_cost, g_cost, current_node, path = heapq.heappop(open_list)\n",
        "\n",
        "        if current_node in closed_list:\n",
        "            continue\n",
        "\n",
        "        path = path + [current_node]\n",
        "\n",
        "        if current_node == goal_node:\n",
        "            return path, g_cost, generated_nodes, expanded_nodes, max_queue_length\n",
        "\n",
        "        closed_list.add(current_node)\n",
        "        expanded_nodes = expanded_nodes + 1\n",
        "        for neighbor, cost in graph[current_node].items():\n",
        "            if neighbor not in closed_list:\n",
        "                heapq.heappush(open_list, (g_cost + cost + heuristic_func(coords, neighbor, goal_node), g_cost + cost, neighbor, path))\n",
        "                generated_nodes = generated_nodes + 1\n",
        "                max_queue_length = max(max_queue_length, len(open_list))\n",
        "                #print(open_list)\n",
        "\n",
        "    return [], float('inf'), generated_nodes, expanded_nodes, max_queue_length"
      ],
      "metadata": {
        "id": "oBOqOXyeQ6AR"
      },
      "execution_count": null,
      "outputs": []
    },
    {
      "cell_type": "code",
      "execution_count": null,
      "metadata": {
        "id": "Kgy34BzMkKqC"
      },
      "outputs": [],
      "source": [
        "'''UCS Algorithm Function\n",
        "Takes graph, start(Source City), goal(Destination City)\n",
        "Returns the shortest path or selected Path taken to reach destination from source and the total path cost\n",
        "f_cost: Total estimated cost (g_cost + heuristic cost) from the start node to the goal node through the current node\n",
        "g_cost: Cost from the start node to the current node\n",
        "path: List of nodes forming the path from the start node to the current node.\n",
        "closed_list: Set to keep track of nodes that have already been evaluated\n",
        "heapq: This module is an implementation of priority queue algorithm provided by Python\n",
        "max_queue_length: Max space requirement of algorithm\n",
        "generated_nodes: Numbers of Generated Nodes\n",
        "expanded_nodes: Numbers of Expanded Nodes'''\n",
        "\n",
        "def uniform_cost_search_algorithm(graph, start_node, goal_node):\n",
        "    open_list = []\n",
        "    f_cost = 0\n",
        "    generated_nodes = 0\n",
        "    expanded_nodes = 0\n",
        "    g_cost = 0\n",
        "    path = []\n",
        "    closed_list = set()\n",
        "    max_queue_length = 0\n",
        "\n",
        "    heapq.heappush(open_list, (f_cost, start_node, path))\n",
        "    generated_nodes = generated_nodes + 1\n",
        "    max_queue_length = max_queue_length  + 1\n",
        "\n",
        "    while open_list:\n",
        "        f_cost, current_node, path = heapq.heappop(open_list)\n",
        "\n",
        "        if current_node in closed_list:\n",
        "            continue\n",
        "\n",
        "        path = path + [current_node]\n",
        "        closed_list.add(current_node)\n",
        "\n",
        "        if current_node == goal_node:\n",
        "            return path, f_cost, generated_nodes, expanded_nodes, max_queue_length\n",
        "\n",
        "        expanded_nodes = expanded_nodes + 1\n",
        "\n",
        "        for neighbor, cost in graph[current_node].items():\n",
        "            if neighbor not in closed_list:\n",
        "                heapq.heappush(open_list, (f_cost + cost, neighbor, path))\n",
        "                generated_nodes = generated_nodes + 1\n",
        "                max_queue_length = max(max_queue_length, len(open_list))\n",
        "\n",
        "    return [], float('inf'), generated_nodes, expanded_nodes, max_queue_length"
      ]
    },
    {
      "cell_type": "code",
      "source": [
        "print(\"-\"*100)\n",
        "path, cost, generated_nodes, expanded_nodes, max_queue_length = astar_search_algorithm(graph, sourceCity, destCity, heuristic)\n",
        "print(\"#\"*20)\n",
        "print(\"A* Search Algorithm\")\n",
        "print(\"#\"*20)\n",
        "print(f\"Shortest Path: {path}\")\n",
        "print(f\"Path Cost : {cost}\")\n",
        "print(f\"Generated Nodes (Time Complexity): {generated_nodes}\")\n",
        "print(f\"Expanded Nodes (Time Complexity): {expanded_nodes}\")\n",
        "print(f\"Max Queue Length (Space Complexity): {max_queue_length}\")"
      ],
      "metadata": {
        "colab": {
          "base_uri": "https://localhost:8080/"
        },
        "id": "GgXQZV7-RKSB",
        "outputId": "a112ec0e-9814-4210-e8ef-d91cb29dac46"
      },
      "execution_count": null,
      "outputs": [
        {
          "output_type": "stream",
          "name": "stdout",
          "text": [
            "----------------------------------------------------------------------------------------------------\n",
            "---------------------------------------------------------------\n",
            "**************Heuristic Values for each cities*****************\n",
            "---------------------------------------------------------------\n",
            "Panji : 671.744\n",
            "Raichur : 344.494\n",
            "Tirupathi : 109.241\n",
            "Chennai : 154.298\n",
            "Kurnool : 259.819\n",
            "Nellore : 0.0\n",
            "Bellari : 338.512\n",
            "Bangalore : 305.805\n",
            "Kozhikode : 577.223\n",
            "Mangalore : 579.75\n",
            "---------------------------------------------------------------\n",
            "####################\n",
            "A* Search Algorithm\n",
            "####################\n",
            "Shortest Path: ['Panji', 'Raichur', 'Kurnool', 'Nellore']\n",
            "Path Cost : 882\n",
            "Generated Nodes (Time Complexity): 6\n",
            "Expanded Nodes (Time Complexity): 3\n",
            "Max Queue Length (Space Complexity): 3\n"
          ]
        }
      ]
    },
    {
      "cell_type": "code",
      "source": [
        "print(\"-\"*100)\n",
        "print(\"#\"*20)\n",
        "print(\"Uniform Cost Search\")\n",
        "print(\"#\"*20)\n",
        "path, cost, generated_nodes, expanded_nodes, max_queue_length = uniform_cost_search_algorithm(graph, sourceCity, destCity)\n",
        "print(f\"Shortest Path: {path}\")\n",
        "print(f\"Path Cost : {cost}\")\n",
        "print(f\"Generated Nodes (Time Complexity): {generated_nodes}\")\n",
        "print(f\"Expanded Nodes (Time Complexity): {expanded_nodes}\")\n",
        "print(f\"Max Queue Length (Space Complexity): {max_queue_length}\")"
      ],
      "metadata": {
        "colab": {
          "base_uri": "https://localhost:8080/"
        },
        "id": "ks1reQ_dRL9B",
        "outputId": "b3384312-7f6e-4d73-f9ad-1045b19ac9c6"
      },
      "execution_count": null,
      "outputs": [
        {
          "output_type": "stream",
          "name": "stdout",
          "text": [
            "----------------------------------------------------------------------------------------------------\n",
            "####################\n",
            "Uniform Cost Search\n",
            "####################\n",
            "Shortest Path: ['Panji', 'Raichur', 'Kurnool', 'Nellore']\n",
            "Path Cost : 882\n",
            "Generated Nodes (Time Complexity): 12\n",
            "Expanded Nodes (Time Complexity): 7\n",
            "Max Queue Length (Space Complexity): 5\n"
          ]
        }
      ]
    },
    {
      "cell_type": "markdown",
      "source": [
        "**Conculusion:**\n",
        "\n",
        "Consider an example where source city is Panji and destination city is Nellore.\n",
        "\n",
        "The A* Search Algorithm outperforms Uniform Cost Search in efficiency, generating fewer nodes (6 vs. 12), expanding fewer nodes (3 vs. 7), and maintaining a smaller maximum queue length (3 vs. 5). Both algorithms achieve the same shortest path and path cost, demonstrating A*'s effectiveness in utilizing heuristics to streamline the search process."
      ],
      "metadata": {
        "id": "qFlSreYjSPn5"
      }
    }
  ]
}
